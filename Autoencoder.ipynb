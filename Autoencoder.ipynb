{
 "cells": [
  {
   "cell_type": "code",
   "execution_count": 1,
   "id": "nasty-vision",
   "metadata": {},
   "outputs": [],
   "source": [
    "import torch\n",
    "from torch import nn\n",
    "import numpy as np\n",
    "\n",
    "from example_dataloader import ExampleDatamodule\n",
    "from manager.managers import AutoencoderManager\n",
    "from models.autoencoder import Autoencoder, CNNAutoencoder"
   ]
  },
  {
   "cell_type": "code",
   "execution_count": 2,
   "id": "crazy-horizontal",
   "metadata": {},
   "outputs": [
    {
     "name": "stdout",
     "output_type": "stream",
     "text": [
      "Using cuda device\n"
     ]
    }
   ],
   "source": [
    "device = 'cuda' if torch.cuda.is_available() else 'cpu'\n",
    "print(\"Using {} device\".format(device))"
   ]
  },
  {
   "cell_type": "code",
   "execution_count": 3,
   "id": "popular-software",
   "metadata": {},
   "outputs": [
    {
     "name": "stderr",
     "output_type": "stream",
     "text": [
      "Train | Epoch: 1: 100%|██████████| 469/469 [00:05<00:00, 86.58it/s, loss: 0.03992]\n",
      "Train | Epoch: 2:   4%|▍         | 18/469 [00:00<00:05, 89.80it/s, loss: 0.02783]"
     ]
    },
    {
     "name": "stdout",
     "output_type": "stream",
     "text": [
      "Valid | Epoch: 1: loss: 0.02847\n"
     ]
    },
    {
     "name": "stderr",
     "output_type": "stream",
     "text": [
      "Train | Epoch: 2: 100%|██████████| 469/469 [00:05<00:00, 90.58it/s, loss: 0.02657]\n",
      "Train | Epoch: 3:   4%|▎         | 17/469 [00:00<00:05, 85.69it/s, loss: 0.02452]"
     ]
    },
    {
     "name": "stdout",
     "output_type": "stream",
     "text": [
      "Valid | Epoch: 2: loss: 0.02542\n"
     ]
    },
    {
     "name": "stderr",
     "output_type": "stream",
     "text": [
      "Train | Epoch: 3: 100%|██████████| 469/469 [00:05<00:00, 89.74it/s, loss: 0.02468]\n",
      "Train | Epoch: 4:   3%|▎         | 16/469 [00:00<00:05, 83.70it/s, loss: 0.02375]"
     ]
    },
    {
     "name": "stdout",
     "output_type": "stream",
     "text": [
      "Valid | Epoch: 3: loss: 0.02453\n"
     ]
    },
    {
     "name": "stderr",
     "output_type": "stream",
     "text": [
      "Train | Epoch: 4: 100%|██████████| 469/469 [00:05<00:00, 88.11it/s, loss: 0.02309]\n",
      "Train | Epoch: 5:   4%|▎         | 17/469 [00:00<00:05, 88.72it/s, loss: 0.02154]"
     ]
    },
    {
     "name": "stdout",
     "output_type": "stream",
     "text": [
      "Valid | Epoch: 4: loss: 0.02232\n"
     ]
    },
    {
     "name": "stderr",
     "output_type": "stream",
     "text": [
      "Train | Epoch: 5: 100%|██████████| 469/469 [00:05<00:00, 90.75it/s, loss: 0.02153]\n",
      "Train | Epoch: 6:   4%|▎         | 17/469 [00:00<00:05, 84.22it/s, loss: 0.02064]"
     ]
    },
    {
     "name": "stdout",
     "output_type": "stream",
     "text": [
      "Valid | Epoch: 5: loss: 0.02140\n"
     ]
    },
    {
     "name": "stderr",
     "output_type": "stream",
     "text": [
      "Train | Epoch: 6: 100%|██████████| 469/469 [00:05<00:00, 91.95it/s, loss: 0.02081]\n",
      "Train | Epoch: 7:   4%|▍         | 18/469 [00:00<00:04, 91.93it/s, loss: 0.02001]"
     ]
    },
    {
     "name": "stdout",
     "output_type": "stream",
     "text": [
      "Valid | Epoch: 6: loss: 0.02068\n"
     ]
    },
    {
     "name": "stderr",
     "output_type": "stream",
     "text": [
      "Train | Epoch: 7: 100%|██████████| 469/469 [00:05<00:00, 92.12it/s, loss: 0.02043]\n",
      "Train | Epoch: 8:   4%|▎         | 17/469 [00:00<00:05, 85.84it/s, loss: 0.01967]"
     ]
    },
    {
     "name": "stdout",
     "output_type": "stream",
     "text": [
      "Valid | Epoch: 7: loss: 0.02052\n"
     ]
    },
    {
     "name": "stderr",
     "output_type": "stream",
     "text": [
      "Train | Epoch: 8: 100%|██████████| 469/469 [00:05<00:00, 90.44it/s, loss: 0.02010]\n",
      "Train | Epoch: 9:   4%|▍         | 18/469 [00:00<00:04, 94.30it/s, loss: 0.01929]"
     ]
    },
    {
     "name": "stdout",
     "output_type": "stream",
     "text": [
      "Valid | Epoch: 8: loss: 0.02016\n"
     ]
    },
    {
     "name": "stderr",
     "output_type": "stream",
     "text": [
      "Train | Epoch: 9: 100%|██████████| 469/469 [00:05<00:00, 89.29it/s, loss: 0.01996]\n",
      "Train | Epoch: 10:   4%|▍         | 18/469 [00:00<00:04, 92.74it/s, loss: 0.01905]"
     ]
    },
    {
     "name": "stdout",
     "output_type": "stream",
     "text": [
      "Valid | Epoch: 9: loss: 0.01997\n"
     ]
    },
    {
     "name": "stderr",
     "output_type": "stream",
     "text": [
      "Train | Epoch: 10: 100%|██████████| 469/469 [00:05<00:00, 89.56it/s, loss: 0.01971]\n",
      "Train | Epoch: 11:   4%|▍         | 18/469 [00:00<00:04, 91.20it/s, loss: 0.01884]"
     ]
    },
    {
     "name": "stdout",
     "output_type": "stream",
     "text": [
      "Valid | Epoch: 10: loss: 0.01970\n"
     ]
    },
    {
     "name": "stderr",
     "output_type": "stream",
     "text": [
      "Train | Epoch: 11: 100%|██████████| 469/469 [00:05<00:00, 90.78it/s, loss: 0.01959]\n",
      "Train | Epoch: 12:   4%|▎         | 17/469 [00:00<00:05, 88.65it/s, loss: 0.01899]"
     ]
    },
    {
     "name": "stdout",
     "output_type": "stream",
     "text": [
      "Valid | Epoch: 11: loss: 0.01978\n"
     ]
    },
    {
     "name": "stderr",
     "output_type": "stream",
     "text": [
      "Train | Epoch: 12: 100%|██████████| 469/469 [00:05<00:00, 92.16it/s, loss: 0.01951]\n",
      "Train | Epoch: 13:   4%|▍         | 18/469 [00:00<00:04, 91.72it/s, loss: 0.01883]"
     ]
    },
    {
     "name": "stdout",
     "output_type": "stream",
     "text": [
      "Valid | Epoch: 12: loss: 0.01968\n"
     ]
    },
    {
     "name": "stderr",
     "output_type": "stream",
     "text": [
      "Train | Epoch: 13: 100%|██████████| 469/469 [00:05<00:00, 91.35it/s, loss: 0.01933]\n",
      "Train | Epoch: 14:   4%|▍         | 18/469 [00:00<00:05, 86.90it/s, loss: 0.01874]"
     ]
    },
    {
     "name": "stdout",
     "output_type": "stream",
     "text": [
      "Valid | Epoch: 13: loss: 0.01953\n"
     ]
    },
    {
     "name": "stderr",
     "output_type": "stream",
     "text": [
      "Train | Epoch: 14: 100%|██████████| 469/469 [00:05<00:00, 90.81it/s, loss: 0.01926]\n",
      "Train | Epoch: 15:   4%|▎         | 17/469 [00:00<00:05, 86.15it/s, loss: 0.01877]"
     ]
    },
    {
     "name": "stdout",
     "output_type": "stream",
     "text": [
      "Valid | Epoch: 14: loss: 0.01967\n"
     ]
    },
    {
     "name": "stderr",
     "output_type": "stream",
     "text": [
      "Train | Epoch: 15: 100%|██████████| 469/469 [00:05<00:00, 89.01it/s, loss: 0.01920]\n",
      "Train | Epoch: 16:   4%|▍         | 18/469 [00:00<00:05, 89.69it/s, loss: 0.01854]"
     ]
    },
    {
     "name": "stdout",
     "output_type": "stream",
     "text": [
      "Valid | Epoch: 15: loss: 0.01933\n"
     ]
    },
    {
     "name": "stderr",
     "output_type": "stream",
     "text": [
      "Train | Epoch: 16: 100%|██████████| 469/469 [00:05<00:00, 87.14it/s, loss: 0.01919]\n",
      "Train | Epoch: 17:   4%|▍         | 18/469 [00:00<00:04, 90.71it/s, loss: 0.01857]"
     ]
    },
    {
     "name": "stdout",
     "output_type": "stream",
     "text": [
      "Valid | Epoch: 16: loss: 0.01944\n"
     ]
    },
    {
     "name": "stderr",
     "output_type": "stream",
     "text": [
      "Train | Epoch: 17: 100%|██████████| 469/469 [00:05<00:00, 88.04it/s, loss: 0.01905]\n",
      "Train | Epoch: 18:   4%|▎         | 17/469 [00:00<00:05, 90.25it/s, loss: 0.01844]"
     ]
    },
    {
     "name": "stdout",
     "output_type": "stream",
     "text": [
      "Valid | Epoch: 17: loss: 0.01929\n"
     ]
    },
    {
     "name": "stderr",
     "output_type": "stream",
     "text": [
      "Train | Epoch: 18: 100%|██████████| 469/469 [00:05<00:00, 91.45it/s, loss: 0.01898]\n",
      "Train | Epoch: 19:   4%|▎         | 17/469 [00:00<00:05, 86.52it/s, loss: 0.01838]"
     ]
    },
    {
     "name": "stdout",
     "output_type": "stream",
     "text": [
      "Valid | Epoch: 18: loss: 0.01936\n"
     ]
    },
    {
     "name": "stderr",
     "output_type": "stream",
     "text": [
      "Train | Epoch: 19: 100%|██████████| 469/469 [00:05<00:00, 91.96it/s, loss: 0.01898]\n",
      "Train | Epoch: 20:   4%|▍         | 18/469 [00:00<00:04, 92.19it/s, loss: 0.01827]"
     ]
    },
    {
     "name": "stdout",
     "output_type": "stream",
     "text": [
      "Valid | Epoch: 19: loss: 0.01950\n"
     ]
    },
    {
     "name": "stderr",
     "output_type": "stream",
     "text": [
      "Train | Epoch: 20: 100%|██████████| 469/469 [00:05<00:00, 91.34it/s, loss: 0.01888]\n"
     ]
    },
    {
     "name": "stdout",
     "output_type": "stream",
     "text": [
      "Valid | Epoch: 20: loss: 0.01942\n"
     ]
    }
   ],
   "source": [
    "num_epochs = 20\n",
    "batch_size = 128\n",
    "\n",
    "dm = ExampleDatamodule(data_path='data',\n",
    "                       batch_size=batch_size)\n",
    "\n",
    "autoencoder = Autoencoder(input_dim=dm.dims,\n",
    "                          num_classes=dm.num_classes)\n",
    "\n",
    "loss_fn = nn.MSELoss()\n",
    "optimizer = torch.optim.Adam(autoencoder.parameters(),\n",
    "                             lr=0.005)\n",
    "\n",
    "m = AutoencoderManager(num_classes=dm.num_classes,\n",
    "                       feature_dim=dm.dims,\n",
    "                       datamodule=dm,\n",
    "                       device=device,\n",
    "                       loss_fn=loss_fn,\n",
    "                       model=autoencoder,\n",
    "                       num_epochs=num_epochs,\n",
    "                       optimizer=optimizer)\n",
    "\n",
    "m.run()"
   ]
  },
  {
   "cell_type": "markdown",
   "id": "moving-laundry",
   "metadata": {},
   "source": [
    "## Visualize"
   ]
  },
  {
   "cell_type": "code",
   "execution_count": 4,
   "id": "forty-democrat",
   "metadata": {},
   "outputs": [],
   "source": [
    "def sample_data(dataloader):\n",
    "    it = iter(dataloader)\n",
    "    data, _ = next(it)\n",
    "    return data\n",
    "\n",
    "test_data = sample_data(dm.eval_dataloader)\n",
    "test_idx =np.random.choice([i for i in range(batch_size)])\n",
    "test_data = test_data[test_idx]"
   ]
  },
  {
   "cell_type": "code",
   "execution_count": 5,
   "id": "herbal-watts",
   "metadata": {},
   "outputs": [],
   "source": [
    "_, test_out = m.model(test_data.to(device))\n",
    "test_out = test_out.cpu().data"
   ]
  },
  {
   "cell_type": "code",
   "execution_count": 6,
   "id": "agreed-sleeve",
   "metadata": {},
   "outputs": [
    {
     "data": {
      "image/png": "[encoded data removed]",
      "text/plain": [
       "<Figure size 432x288 with 1 Axes>"
      ]
     },
     "metadata": {
      "needs_background": "light"
     },
     "output_type": "display_data"
    }
   ],
   "source": [
    "import matplotlib.pyplot as plt\n",
    "import torchvision\n",
    "\n",
    "result_list = torch.cat([test_data.unsqueeze(dim=0), test_out], dim=0)\n",
    "img_to_show = torchvision.utils.make_grid(result_list).cpu().data.numpy()\n",
    "img_to_show = np.transpose(img_to_show, (1, 2, 0))\n",
    "plt.imshow(img_to_show)\n",
    "plt.show()"
   ]
  },
  {
   "cell_type": "code",
   "execution_count": 7,
   "id": "delayed-region",
   "metadata": {},
   "outputs": [
    {
     "name": "stderr",
     "output_type": "stream",
     "text": [
      "Train | Epoch: 1: 100%|██████████| 469/469 [00:06<00:00, 67.18it/s, loss: 0.07774]\n",
      "Train | Epoch: 2:   3%|▎         | 13/469 [00:00<00:06, 66.90it/s, loss: 0.06991]"
     ]
    },
    {
     "name": "stdout",
     "output_type": "stream",
     "text": [
      "Valid | Epoch: 1: loss: 0.07053\n"
     ]
    },
    {
     "name": "stderr",
     "output_type": "stream",
     "text": [
      "Train | Epoch: 2: 100%|██████████| 469/469 [00:06<00:00, 67.43it/s, loss: 0.06647]\n",
      "Train | Epoch: 3:   3%|▎         | 13/469 [00:00<00:07, 64.18it/s, loss: 0.05567]"
     ]
    },
    {
     "name": "stdout",
     "output_type": "stream",
     "text": [
      "Valid | Epoch: 2: loss: 0.05609\n"
     ]
    },
    {
     "name": "stderr",
     "output_type": "stream",
     "text": [
      "Train | Epoch: 3: 100%|██████████| 469/469 [00:06<00:00, 67.47it/s, loss: 0.05590]\n",
      "Train | Epoch: 4:   3%|▎         | 12/469 [00:00<00:07, 63.37it/s, loss: 0.05484]"
     ]
    },
    {
     "name": "stdout",
     "output_type": "stream",
     "text": [
      "Valid | Epoch: 3: loss: 0.05544\n"
     ]
    },
    {
     "name": "stderr",
     "output_type": "stream",
     "text": [
      "Train | Epoch: 4: 100%|██████████| 469/469 [00:07<00:00, 66.36it/s, loss: 0.05533]\n",
      "Train | Epoch: 5:   3%|▎         | 13/469 [00:00<00:07, 63.47it/s, loss: 0.05446]"
     ]
    },
    {
     "name": "stdout",
     "output_type": "stream",
     "text": [
      "Valid | Epoch: 4: loss: 0.05509\n"
     ]
    },
    {
     "name": "stderr",
     "output_type": "stream",
     "text": [
      "Train | Epoch: 5: 100%|██████████| 469/469 [00:06<00:00, 68.00it/s, loss: 0.05501]\n",
      "Train | Epoch: 6:   3%|▎         | 13/469 [00:00<00:06, 65.71it/s, loss: 0.05446]"
     ]
    },
    {
     "name": "stdout",
     "output_type": "stream",
     "text": [
      "Valid | Epoch: 5: loss: 0.05479\n"
     ]
    },
    {
     "name": "stderr",
     "output_type": "stream",
     "text": [
      "Train | Epoch: 6: 100%|██████████| 469/469 [00:07<00:00, 66.36it/s, loss: 0.05480]\n",
      "Train | Epoch: 7:   3%|▎         | 13/469 [00:00<00:07, 65.00it/s, loss: 0.05430]"
     ]
    },
    {
     "name": "stdout",
     "output_type": "stream",
     "text": [
      "Valid | Epoch: 6: loss: 0.05463\n"
     ]
    },
    {
     "name": "stderr",
     "output_type": "stream",
     "text": [
      "Train | Epoch: 7: 100%|██████████| 469/469 [00:06<00:00, 67.61it/s, loss: 0.05458]\n",
      "Train | Epoch: 8:   3%|▎         | 12/469 [00:00<00:07, 62.58it/s, loss: 0.05381]"
     ]
    },
    {
     "name": "stdout",
     "output_type": "stream",
     "text": [
      "Valid | Epoch: 7: loss: 0.05447\n"
     ]
    },
    {
     "name": "stderr",
     "output_type": "stream",
     "text": [
      "Train | Epoch: 8: 100%|██████████| 469/469 [00:07<00:00, 66.83it/s, loss: 0.05440]\n",
      "Train | Epoch: 9:   3%|▎         | 13/469 [00:00<00:07, 64.94it/s, loss: 0.05395]"
     ]
    },
    {
     "name": "stdout",
     "output_type": "stream",
     "text": [
      "Valid | Epoch: 8: loss: 0.05425\n"
     ]
    },
    {
     "name": "stderr",
     "output_type": "stream",
     "text": [
      "Train | Epoch: 9: 100%|██████████| 469/469 [00:07<00:00, 65.97it/s, loss: 0.05429]\n",
      "Train | Epoch: 10:   3%|▎         | 13/469 [00:00<00:07, 64.67it/s, loss: 0.05388]"
     ]
    },
    {
     "name": "stdout",
     "output_type": "stream",
     "text": [
      "Valid | Epoch: 9: loss: 0.05415\n"
     ]
    },
    {
     "name": "stderr",
     "output_type": "stream",
     "text": [
      "Train | Epoch: 10: 100%|██████████| 469/469 [00:07<00:00, 66.56it/s, loss: 0.05421]\n",
      "Train | Epoch: 11:   3%|▎         | 13/469 [00:00<00:06, 67.03it/s, loss: 0.05381]"
     ]
    },
    {
     "name": "stdout",
     "output_type": "stream",
     "text": [
      "Valid | Epoch: 10: loss: 0.05417\n"
     ]
    },
    {
     "name": "stderr",
     "output_type": "stream",
     "text": [
      "Train | Epoch: 11: 100%|██████████| 469/469 [00:07<00:00, 66.21it/s, loss: 0.05414]\n",
      "Train | Epoch: 12:   3%|▎         | 13/469 [00:00<00:06, 66.10it/s, loss: 0.05375]"
     ]
    },
    {
     "name": "stdout",
     "output_type": "stream",
     "text": [
      "Valid | Epoch: 11: loss: 0.05413\n"
     ]
    },
    {
     "name": "stderr",
     "output_type": "stream",
     "text": [
      "Train | Epoch: 12: 100%|██████████| 469/469 [00:07<00:00, 64.65it/s, loss: 0.05409]\n",
      "Train | Epoch: 13:   3%|▎         | 12/469 [00:00<00:07, 65.10it/s, loss: 0.05347]"
     ]
    },
    {
     "name": "stdout",
     "output_type": "stream",
     "text": [
      "Valid | Epoch: 12: loss: 0.05407\n"
     ]
    },
    {
     "name": "stderr",
     "output_type": "stream",
     "text": [
      "Train | Epoch: 13: 100%|██████████| 469/469 [00:06<00:00, 67.24it/s, loss: 0.05404]\n",
      "Train | Epoch: 14:   3%|▎         | 13/469 [00:00<00:06, 65.75it/s, loss: 0.05366]"
     ]
    },
    {
     "name": "stdout",
     "output_type": "stream",
     "text": [
      "Valid | Epoch: 13: loss: 0.05408\n"
     ]
    },
    {
     "name": "stderr",
     "output_type": "stream",
     "text": [
      "Train | Epoch: 14: 100%|██████████| 469/469 [00:07<00:00, 66.98it/s, loss: 0.05400]\n",
      "Train | Epoch: 15:   3%|▎         | 13/469 [00:00<00:06, 65.18it/s, loss: 0.05362]"
     ]
    },
    {
     "name": "stdout",
     "output_type": "stream",
     "text": [
      "Valid | Epoch: 14: loss: 0.05401\n"
     ]
    },
    {
     "name": "stderr",
     "output_type": "stream",
     "text": [
      "Train | Epoch: 15: 100%|██████████| 469/469 [00:07<00:00, 66.71it/s, loss: 0.05396]\n",
      "Train | Epoch: 16:   3%|▎         | 13/469 [00:00<00:06, 66.59it/s, loss: 0.05359]"
     ]
    },
    {
     "name": "stdout",
     "output_type": "stream",
     "text": [
      "Valid | Epoch: 15: loss: 0.05389\n"
     ]
    },
    {
     "name": "stderr",
     "output_type": "stream",
     "text": [
      "Train | Epoch: 16: 100%|██████████| 469/469 [00:07<00:00, 66.82it/s, loss: 0.05392]\n",
      "Train | Epoch: 17:   3%|▎         | 12/469 [00:00<00:07, 62.11it/s, loss: 0.05333]"
     ]
    },
    {
     "name": "stdout",
     "output_type": "stream",
     "text": [
      "Valid | Epoch: 16: loss: 0.05381\n"
     ]
    },
    {
     "name": "stderr",
     "output_type": "stream",
     "text": [
      "Train | Epoch: 17: 100%|██████████| 469/469 [00:07<00:00, 66.27it/s, loss: 0.05389]\n",
      "Train | Epoch: 18:   3%|▎         | 13/469 [00:00<00:07, 64.82it/s, loss: 0.05353]"
     ]
    },
    {
     "name": "stdout",
     "output_type": "stream",
     "text": [
      "Valid | Epoch: 17: loss: 0.05376\n"
     ]
    },
    {
     "name": "stderr",
     "output_type": "stream",
     "text": [
      "Train | Epoch: 18: 100%|██████████| 469/469 [00:07<00:00, 65.78it/s, loss: 0.05386]\n",
      "Train | Epoch: 19:   3%|▎         | 13/469 [00:00<00:06, 66.24it/s, loss: 0.05351]"
     ]
    },
    {
     "name": "stdout",
     "output_type": "stream",
     "text": [
      "Valid | Epoch: 18: loss: 0.05376\n"
     ]
    },
    {
     "name": "stderr",
     "output_type": "stream",
     "text": [
      "Train | Epoch: 19: 100%|██████████| 469/469 [00:07<00:00, 66.24it/s, loss: 0.05384]\n",
      "Train | Epoch: 20:   3%|▎         | 13/469 [00:00<00:07, 64.82it/s, loss: 0.05349]"
     ]
    },
    {
     "name": "stdout",
     "output_type": "stream",
     "text": [
      "Valid | Epoch: 19: loss: 0.05374\n"
     ]
    },
    {
     "name": "stderr",
     "output_type": "stream",
     "text": [
      "Train | Epoch: 20: 100%|██████████| 469/469 [00:07<00:00, 66.42it/s, loss: 0.05381]\n",
      "Train | Epoch: 21:   3%|▎         | 12/469 [00:00<00:07, 63.29it/s, loss: 0.05324]"
     ]
    },
    {
     "name": "stdout",
     "output_type": "stream",
     "text": [
      "Valid | Epoch: 20: loss: 0.05373\n"
     ]
    },
    {
     "name": "stderr",
     "output_type": "stream",
     "text": [
      "Train | Epoch: 21: 100%|██████████| 469/469 [00:07<00:00, 65.57it/s, loss: 0.05379]\n",
      "Train | Epoch: 22:   3%|▎         | 13/469 [00:00<00:07, 63.07it/s, loss: 0.05322]"
     ]
    },
    {
     "name": "stdout",
     "output_type": "stream",
     "text": [
      "Valid | Epoch: 21: loss: 0.05370\n"
     ]
    },
    {
     "name": "stderr",
     "output_type": "stream",
     "text": [
      "Train | Epoch: 22: 100%|██████████| 469/469 [00:06<00:00, 68.38it/s, loss: 0.05377]\n",
      "Train | Epoch: 23:   3%|▎         | 13/469 [00:00<00:07, 64.66it/s, loss: 0.05343]"
     ]
    },
    {
     "name": "stdout",
     "output_type": "stream",
     "text": [
      "Valid | Epoch: 22: loss: 0.05369\n"
     ]
    },
    {
     "name": "stderr",
     "output_type": "stream",
     "text": [
      "Train | Epoch: 23: 100%|██████████| 469/469 [00:07<00:00, 66.99it/s, loss: 0.05375]\n",
      "Train | Epoch: 24:   3%|▎         | 13/469 [00:00<00:07, 64.90it/s, loss: 0.05341]"
     ]
    },
    {
     "name": "stdout",
     "output_type": "stream",
     "text": [
      "Valid | Epoch: 23: loss: 0.05369\n"
     ]
    },
    {
     "name": "stderr",
     "output_type": "stream",
     "text": [
      "Train | Epoch: 24: 100%|██████████| 469/469 [00:06<00:00, 67.14it/s, loss: 0.05374]\n",
      "Train | Epoch: 25:   3%|▎         | 13/469 [00:00<00:06, 67.40it/s, loss: 0.05340]"
     ]
    },
    {
     "name": "stdout",
     "output_type": "stream",
     "text": [
      "Valid | Epoch: 24: loss: 0.05367\n"
     ]
    },
    {
     "name": "stderr",
     "output_type": "stream",
     "text": [
      "Train | Epoch: 25: 100%|██████████| 469/469 [00:07<00:00, 66.33it/s, loss: 0.05372]\n",
      "Train | Epoch: 26:   3%|▎         | 13/469 [00:00<00:06, 67.51it/s, loss: 0.05338]"
     ]
    },
    {
     "name": "stdout",
     "output_type": "stream",
     "text": [
      "Valid | Epoch: 25: loss: 0.05370\n"
     ]
    },
    {
     "name": "stderr",
     "output_type": "stream",
     "text": [
      "Train | Epoch: 26: 100%|██████████| 469/469 [00:06<00:00, 67.34it/s, loss: 0.05370]\n",
      "Train | Epoch: 27:   3%|▎         | 13/469 [00:00<00:06, 66.62it/s, loss: 0.05337]"
     ]
    },
    {
     "name": "stdout",
     "output_type": "stream",
     "text": [
      "Valid | Epoch: 26: loss: 0.05369\n"
     ]
    },
    {
     "name": "stderr",
     "output_type": "stream",
     "text": [
      "Train | Epoch: 27: 100%|██████████| 469/469 [00:06<00:00, 67.25it/s, loss: 0.05369]\n",
      "Train | Epoch: 28:   3%|▎         | 13/469 [00:00<00:06, 65.91it/s, loss: 0.05336]"
     ]
    },
    {
     "name": "stdout",
     "output_type": "stream",
     "text": [
      "Valid | Epoch: 27: loss: 0.05369\n"
     ]
    },
    {
     "name": "stderr",
     "output_type": "stream",
     "text": [
      "Train | Epoch: 28: 100%|██████████| 469/469 [00:07<00:00, 66.93it/s, loss: 0.05367]\n",
      "Train | Epoch: 29:   3%|▎         | 13/469 [00:00<00:06, 66.85it/s, loss: 0.05335]"
     ]
    },
    {
     "name": "stdout",
     "output_type": "stream",
     "text": [
      "Valid | Epoch: 28: loss: 0.05369\n"
     ]
    },
    {
     "name": "stderr",
     "output_type": "stream",
     "text": [
      "Train | Epoch: 29: 100%|██████████| 469/469 [00:07<00:00, 66.62it/s, loss: 0.05366]\n",
      "Train | Epoch: 30:   3%|▎         | 13/469 [00:00<00:07, 64.84it/s, loss: 0.05311]"
     ]
    },
    {
     "name": "stdout",
     "output_type": "stream",
     "text": [
      "Valid | Epoch: 29: loss: 0.05367\n"
     ]
    },
    {
     "name": "stderr",
     "output_type": "stream",
     "text": [
      "Train | Epoch: 30: 100%|██████████| 469/469 [00:07<00:00, 66.41it/s, loss: 0.05365]\n"
     ]
    },
    {
     "name": "stdout",
     "output_type": "stream",
     "text": [
      "Valid | Epoch: 30: loss: 0.05367\n"
     ]
    }
   ],
   "source": [
    "num_epochs = 20\n",
    "batch_size = 128\n",
    "\n",
    "dm = ExampleDatamodule(data_path='data',\n",
    "                       batch_size=batch_size)\n",
    "\n",
    "autoencoder = CNNAutoencoder(input_dim=dm.dims,\n",
    "                          num_classes=dm.num_classes)\n",
    "\n",
    "loss_fn = nn.MSELoss()\n",
    "optimizer = torch.optim.Adam(autoencoder.parameters(),\n",
    "                             lr=0.005)\n",
    "\n",
    "m = AutoencoderManager(num_classes=dm.num_classes,\n",
    "                       feature_dim=dm.dims,\n",
    "                       datamodule=dm,\n",
    "                       device=device,\n",
    "                       loss_fn=loss_fn,\n",
    "                       model=autoencoder,\n",
    "                       num_epochs=num_epochs,\n",
    "                       optimizer=optimizer)\n",
    "\n",
    "m.run()"
   ]
  },
  {
   "cell_type": "code",
   "execution_count": 8,
   "id": "virgin-daniel",
   "metadata": {},
   "outputs": [],
   "source": [
    "test_data = sample_data(dm.eval_dataloader)\n",
    "test_idx = np.random.choice([i for i in range(batch_size)])\n",
    "test_data = test_data[test_idx]\n",
    "\n",
    "_, test_out = m.model(test_data.unsqueeze(0).to(device))\n",
    "test_out = test_out.cpu().data"
   ]
  },
  {
   "cell_type": "code",
   "execution_count": 9,
   "id": "saving-munich",
   "metadata": {},
   "outputs": [
    {
     "data": {
      "image/png": "[encoded data removed]",
      "text/plain": [
       "<Figure size 432x288 with 1 Axes>"
      ]
     },
     "metadata": {
      "needs_background": "light"
     },
     "output_type": "display_data"
    }
   ],
   "source": [
    "result_list = torch.cat([test_data.unsqueeze(dim=0), test_out], dim=0)\n",
    "img_to_show = torchvision.utils.make_grid(result_list).cpu().data.numpy()\n",
    "img_to_show = np.transpose(img_to_show, (1, 2, 0))\n",
    "plt.imshow(img_to_show)\n",
    "plt.show()"
   ]
  }
 ],
 "metadata": {
  "kernelspec": {
   "display_name": "Python 3",
   "language": "python",
   "name": "python3"
  },
  "language_info": {
   "codemirror_mode": {
    "name": "ipython",
    "version": 3
   },
   "file_extension": ".py",
   "mimetype": "text/x-python",
   "name": "python",
   "nbconvert_exporter": "python",
   "pygments_lexer": "ipython3",
   "version": "3.8.7"
  }
 },
 "nbformat": 4,
 "nbformat_minor": 5
}
